{
 "cells": [
  {
   "cell_type": "markdown",
   "metadata": {},
   "source": [
    "## 1. What is the Average Height of US Presidents?\n",
    "\n",
    "Aggregates available in NumPy can be extremely useful for summarizing a set of values.\n",
    "As a simple example, let's consider the heights of all US presidents.\n",
    "\n",
    "This data is available in the file *president_heights.csv*, which is a simple comma-separated list of labels and values.\n",
    "\n",
    "Find the mean height, the standard deviation of height, and the president who is the smallest and tallest.\n",
    "\n",
    "You can use `pandas` to read in the file if you want, then cast the column to a `np.array`"
   ]
  },
  {
   "source": [
    "import pandas as pd \n",
    "import numpy as np\n",
    "\n",
    "#reads the file\n",
    "data=pd.read_csv('data/president_heights.csv')\n",
    "\n",
    "#the array of all the names\n",
    "name=np.array(data['name'])\n",
    "\n",
    "#array of the heights \n",
    "Height=np.array(data['height(cm)'])\n",
    "\n",
    "#Mean value of the heitghts\n",
    "mean_Height=np.mean(Height)\n",
    "print(F'Mean height:{mean_Height} cm ')\n",
    "\n",
    "\n",
    "#the standard deviation of height\n",
    "std_height=np.std(Height)\n",
    "print(F'std:{std_height}')\n",
    "\n",
    "#arguments of maximum value \n",
    "argmax=np.argmax(Height)\n",
    "\n",
    "#arguments of minimim value \n",
    "argmin=np.argmin(Height)\n",
    "\n",
    "print(F'Tallest president is {name[argmax]} with {Height[argmax]} cm ')\n",
    "print(F'Smallest president is {name[argmin]} with {Height[argmin]} cm ')\n"
   ],
   "cell_type": "code",
   "metadata": {},
   "execution_count": 465,
   "outputs": [
    {
     "output_type": "stream",
     "name": "stdout",
     "text": [
      "Mean height:179.73809523809524 cm \nstd:6.931843442745892\nTallest president is Abraham Lincoln with 193 cm \nSmallest president is James Madison with 163 cm \n"
     ]
    }
   ]
  },
  {
   "cell_type": "markdown",
   "metadata": {},
   "source": [
    "# Exercise 2\n",
    "\n",
    "Recall the polynomial formula\n",
    "\n",
    "$$\n",
    "p(x) = a_0 + a_1 x + a_2 x^2 + \\cdots a_N x^N = \\sum_{n=0}^N a_n x^n \\tag{1}\n",
    "$$\n",
    "\n",
    "In the **math functions workshop**, you wrote a simple function `p(x, coeff)` to evaluate it without thinking about efficiency.\n",
    "\n",
    "Now write a new function that does the same job, but uses NumPy arrays and array operations for its computations, rather than any form of Python loop.\n",
    "\n",
    "(This is already implemented in `np.poly1d`, but use that only to test your function)\n",
    "\n",
    "- Hint: Use `np.cumprod()`  \n"
   ]
  },
  {
   "source": [
    "import numpy as np \n",
    "def p1(x,coef):\n",
    "    coef=np.array(coef)\n",
    "    power=np.arange(0,len(coef),1)\n",
    "    p_x=np.sum(coef*x**power)\n",
    "    return p_x\n",
    "\n",
    "# With comprod()\n",
    "\n",
    "def p_2(x,coef):\n",
    "    coef=np.array(coef)\n",
    "    arr_x=np.zeros(len(coef))+x\n",
    "    arr_x[0]=1\n",
    "    arr_x=np.cumprod(arr_x)\n",
    "    return np.sum(arr_x*coef)\n",
    "    \n",
    "print(p_2(5,[1,5,0,2]))\n",
    "print(p1(5,[1,5,0,2]))\n",
    "\n",
    "\n",
    "p = np.poly1d([2,0,5,1])\n",
    "print(p(5))\n",
    "   \n"
   ],
   "cell_type": "code",
   "metadata": {},
   "execution_count": 466,
   "outputs": [
    {
     "output_type": "stream",
     "name": "stdout",
     "text": [
      "276.0\n276\n276\n"
     ]
    }
   ]
  },
  {
   "cell_type": "markdown",
   "metadata": {},
   "source": [
    "## Exercise 3 Softmax\n",
    "\n",
    "Read in `data/iris.csv` and compute the [softmax]() of the sepal length. The formula for the softmax function $\\sigma(x)$ for a vector $x = \\{x_0, x_1, ..., x_{n-1}\\}$ is\n",
    "    .$$\\sigma(x)_j = \\frac{e^{x_j}}{\\sum_k e^{x_k}}$$\n",
    "\n",
    "\n",
    "Your result should be equal to the output of `scipy.special.softmax`"
   ]
  },
  {
   "cell_type": "code",
   "execution_count": 467,
   "metadata": {},
   "outputs": [
    {
     "output_type": "stream",
     "name": "stdout",
     "text": [
      "[0.00221959 0.00181724 0.00148783 0.00134625 0.00200836 0.00299613\n 0.00134625 0.00200836 0.00110221 0.00181724 0.00299613 0.00164431\n 0.00164431 0.00099732 0.0044697  0.00404435 0.00299613 0.00221959\n 0.00404435 0.00221959 0.00299613 0.00221959 0.00134625 0.00221959\n 0.00164431 0.00200836 0.00200836 0.00245302 0.00245302 0.00148783\n 0.00164431 0.00299613 0.00245302 0.00331123 0.00181724 0.00200836\n 0.00331123 0.00181724 0.00110221 0.00221959 0.00200836 0.00121813\n 0.00110221 0.00200836 0.00221959 0.00164431 0.00221959 0.00134625\n 0.00271101 0.00200836 0.01483991 0.00814432 0.01342771 0.00331123\n 0.00900086 0.00404435 0.00736928 0.00181724 0.00994749 0.00245302\n 0.00200836 0.00493978 0.0054593  0.00603346 0.00365948 0.01099368\n 0.00365948 0.0044697  0.006668   0.00365948 0.00493978 0.00603346\n 0.00736928 0.00603346 0.00814432 0.00994749 0.01214989 0.01099368\n 0.0054593  0.00404435 0.00331123 0.00331123 0.0044697  0.0054593\n 0.00299613 0.0054593  0.01099368 0.00736928 0.00365948 0.00331123\n 0.00331123 0.00603346 0.0044697  0.00200836 0.00365948 0.00404435\n 0.00404435 0.006668   0.00221959 0.00404435 0.00736928 0.0044697\n 0.01640064 0.00736928 0.00900086 0.02704008 0.00181724 0.02003179\n 0.01099368 0.01812551 0.00900086 0.00814432 0.01214989 0.00404435\n 0.0044697  0.00814432 0.00900086 0.02988391 0.02988391 0.0054593\n 0.01342771 0.00365948 0.02988391 0.00736928 0.01099368 0.01812551\n 0.006668   0.00603346 0.00814432 0.01812551 0.02213855 0.0365003\n 0.00814432 0.00736928 0.00603346 0.02988391 0.00736928 0.00814432\n 0.0054593  0.01342771 0.01099368 0.01342771 0.0044697  0.01214989\n 0.01099368 0.01099368 0.00736928 0.00900086 0.006668   0.00493978]\n"
     ]
    }
   ],
   "source": [
    "from scipy.special import softmax\n",
    "\n",
    "\n",
    "#reads the file\n",
    "data=pd.read_csv('data/iris.csv')\n",
    "\n",
    "# Sepallenght array \n",
    "SL=np.array(data['sepallength'])\n",
    "\n",
    "#softmax formula\n",
    "sigma=np.exp(SL)/(np.sum(np.exp(SL)))\n",
    "\n",
    "print(sigma)\n"
   ]
  },
  {
   "cell_type": "markdown",
   "metadata": {},
   "source": [
    "## Exercise 4: unique counts\n",
    "\n",
    "\n",
    "Compute the counts of unique values row-wise.\n",
    "\n",
    "Input:\n",
    "```\n",
    "np.random.seed(100)\n",
    "arr = np.random.randint(1,11,size=(6, 10))\n",
    "arr\n",
    "> array([[ 9,  9,  4,  8,  8,  1,  5,  3,  6,  3],\n",
    ">        [ 3,  3,  2,  1,  9,  5,  1, 10,  7,  3],\n",
    ">        [ 5,  2,  6,  4,  5,  5,  4,  8,  2,  2],\n",
    ">        [ 8,  8,  1,  3, 10, 10,  4,  3,  6,  9],\n",
    ">        [ 2,  1,  8,  7,  3,  1,  9,  3,  6,  2],\n",
    ">        [ 9,  2,  6,  5,  3,  9,  4,  6,  1, 10]])\n",
    "```\n",
    "Desired Output:\n",
    "```\n",
    "> [[1, 0, 2, 1, 1, 1, 0, 2, 2, 0],\n",
    ">  [2, 1, 3, 0, 1, 0, 1, 0, 1, 1],\n",
    ">  [0, 3, 0, 2, 3, 1, 0, 1, 0, 0],\n",
    ">  [1, 0, 2, 1, 0, 1, 0, 2, 1, 2],\n",
    ">  [2, 2, 2, 0, 0, 1, 1, 1, 1, 0],\n",
    ">  [1, 1, 1, 1, 1, 2, 0, 0, 2, 1]]\n",
    "```\n",
    "Output contains 10 columns representing numbers from 1 to 10. The values are the counts of the numbers in the respective rows.\n",
    "For example, Cell(0,2) has the value 2, which means, the number 3 occurs exactly 2 times in the 1st row."
   ]
  },
  {
   "cell_type": "code",
   "execution_count": 468,
   "metadata": {},
   "outputs": [
    {
     "output_type": "stream",
     "name": "stdout",
     "text": [
      "[[1 0 2 1 1 1 0 2 2 0]\n [2 1 3 0 1 0 1 0 1 1]\n [0 3 0 2 3 1 0 1 0 0]\n [1 0 2 1 0 1 0 2 1 2]\n [2 2 2 0 0 1 1 1 1 0]\n [1 1 1 1 1 2 0 0 2 1]]\n"
     ]
    }
   ],
   "source": [
    "np.random.seed(100)\n",
    "arr = np.random.randint(1,11,size=(6, 10))\n",
    "\n",
    "#copy of the original arr\n",
    "arr1=np.copy(arr)\n",
    "\n",
    "#get the number of columns \n",
    "n_col=np.shape(arr)[1]\n",
    "\n",
    "#get the number of row \n",
    "n_row=np.shape(arr)[0]\n",
    "\n",
    "n=np.arange(1,11,1)\n",
    "\n",
    "for j in range(n_row):\n",
    "    for i in range(n_col):\n",
    "        arr[j,i]=len(np.where(arr1[j,:]==n[i])[0])\n",
    "\n",
    "\n",
    "print(arr)"
   ]
  },
  {
   "cell_type": "markdown",
   "metadata": {},
   "source": [
    "## Exercise 5: One-Hot encodings\n",
    "\n",
    "Compute the one-hot encodings (AKA dummy binary variables) for each unique value in the array.\n",
    "\n",
    "Input:\n",
    "```\n",
    "np.random.seed(101) \n",
    "arr = np.random.randint(1,4, size=6)\n",
    "arr\n",
    "#> array([2, 3, 2, 2, 2, 1])\n",
    "```\n",
    "Output:\n",
    "```\n",
    "#> array([[ 0.,  1.,  0.],\n",
    "#>        [ 0.,  0.,  1.],\n",
    "#>        [ 0.,  1.,  0.],\n",
    "#>        [ 0.,  1.,  0.],\n",
    "#>        [ 0.,  1.,  0.],\n",
    "#>        [ 1.,  0.,  0.]])\n",
    "```"
   ]
  },
  {
   "cell_type": "code",
   "execution_count": 469,
   "metadata": {},
   "outputs": [
    {
     "output_type": "execute_result",
     "data": {
      "text/plain": [
       "array([[0., 1., 0.],\n",
       "       [0., 0., 1.],\n",
       "       [0., 1., 0.],\n",
       "       [0., 1., 0.],\n",
       "       [0., 1., 0.],\n",
       "       [1., 0., 0.]])"
      ]
     },
     "metadata": {},
     "execution_count": 469
    }
   ],
   "source": [
    "np.random.seed(101) \n",
    "arr = np.random.randint(1,4, size=6)\n",
    "\n",
    "Max=3\n",
    "Min=1\n",
    "mid=2\n",
    "\n",
    "a=np.array([Min,mid,Max])\n",
    "result=np.empty([6,3])\n",
    "for i in range(np.shape(arr)[0]):\n",
    "    result[i,:]=arr[i]==a\n",
    "\n",
    "result"
   ]
  },
  {
   "source": [
    "## Exercise 6\n",
    "\n",
    "Let `q` be a NumPy array of length `n` with `q.sum() == 1`.\n",
    "\n",
    "Suppose that `q` represents a [probability mass function](https://en.wikipedia.org/wiki/Probability_mass_function) over a statistical distribution. Recall that a distribution is an array of probabilities of events.\n",
    "\n",
    "We want to generate a discrete random variable $ x $ such that $ \\mathbb P\\{x = i\\} = q_i $.\n",
    "\n",
    "In other words, `x` takes values in `range(len(q))` and `x = i` with probability `q[i]`.\n",
    "\n",
    "The standard (inverse transform) algorithm is as follows:\n",
    "\n",
    "- Divide the unit interval $ [0, 1] $ into $ n $ subintervals $ I_0, I_1, \\ldots, I_{n-1} $ such that the length of $ I_i $ is $ q_i $.  \n",
    "- Draw a uniform random variable $ U $ on $ [0, 1] $ and return the $ i $ such that $ U \\in I_i $.  \n",
    "\n",
    "\n",
    "The probability of drawing $ i $ is the length of $ I_i $, which is equal to $ q_i $.\n",
    "\n",
    "We can implement the algorithm as follows\n",
    "\n",
    "```python\n",
    "from random import uniform\n",
    "\n",
    "def sample(q):\n",
    "    a = 0.0\n",
    "    U = uniform(0, 1)\n",
    "    for i in range(len(q)):\n",
    "        if a < U <= a + q[i]:\n",
    "            return i\n",
    "        a = a + q[i]\n",
    "```\n",
    "\n",
    "If you can’t see how this works, try thinking through the flow for a simple example, such as `q = [0.25, 0.75]`\n",
    "It helps to sketch the intervals on paper.\n",
    "\n",
    "**Your exercise is to speed it up using NumPy, avoiding explicit loops**\n",
    "\n",
    "- Hint: Use `np.searchsorted` and `np.cumsum`  \n",
    "\n",
    "\n",
    "If you can, implement the functionality as a class called `DiscreteRV`, where\n",
    "\n",
    "- the data for an instance of the class is the vector of probabilities `q`  \n",
    "- the class has a `draw()` method, which returns one draw according to the algorithm described above  \n",
    "\n",
    "\n",
    "If you can, write the method so that `draw(k)` returns `k` draws from `q`."
   ],
   "cell_type": "markdown",
   "metadata": {}
  },
  {
   "cell_type": "code",
   "execution_count": 470,
   "metadata": {},
   "outputs": [
    {
     "output_type": "stream",
     "name": "stdout",
     "text": [
      "1\n"
     ]
    }
   ],
   "source": [
    "def VectDiscreteRV(list):\n",
    "\n",
    "    arr_q=np.array(list)\n",
    "    arr_aq=np.cumsum(arr_q)\n",
    "\n",
    "    arr_a=np.zeros(len(q))\n",
    "    arr_a[1:]=arr_aq[:-1]\n",
    "\n",
    "    U = uniform(0, 1)\n",
    "\n",
    "    return np.searchsorted(arr_aq,U)\n",
    "\n",
    "q = [0.5, 0.5]\n",
    "print(VectDiscreteRV(q))\n"
   ]
  },
  {
   "cell_type": "code",
   "execution_count": 471,
   "metadata": {},
   "outputs": [
    {
     "output_type": "stream",
     "name": "stdout",
     "text": [
      "1 0 2 1 2 1 2 2 1 1 2 2 1 1 1 2 1 2 2 2\n"
     ]
    }
   ],
   "source": [
    "class DiscreteRV:\n",
    "    \n",
    "    def __init__(self,list):\n",
    "        self.q=list\n",
    "        arr_q=np.array(self.q)\n",
    "        arr_aq=np.cumsum(arr_q)\n",
    "\n",
    "        arr_a=np.zeros(len(self.q))\n",
    "        arr_a[1:]=arr_aq[:-1]\n",
    "\n",
    "        U = uniform(0, 1)\n",
    "        self.i=np.searchsorted(arr_aq,U)\n",
    "\n",
    "    def draw(self,k=None):\n",
    "        if k==None:\n",
    "            k=1\n",
    "        draws=[]\n",
    "        j=0\n",
    "        while j!=k:\n",
    "            \n",
    "            draws.append(DiscreteRV(self.q).i)\n",
    "            j+=1\n",
    "        return draws\n",
    "\n",
    "q = [0.1,0.4,0.6]\n",
    "L=DiscreteRV(q)\n",
    "a=L.draw(20)\n",
    "print(*a)\n",
    "\n"
   ]
  },
  {
   "cell_type": "markdown",
   "metadata": {},
   "source": [
    "## Exercise 7 Peaks\n",
    "\n",
    "Find all the peaks in a 1D numpy array a. Peaks are points surrounded by smaller values on both sides.\n",
    "\n",
    "Input:\n",
    "```\n",
    "a = np.array([1, 3, 7, 1, 2, 6, 0, 1])\n",
    "```\n",
    "Desired Output:\n",
    "```\n",
    "#> array([2, 5])\n",
    "```\n",
    "where, 2 and 5 are the positions of peak values 7 and 6.\n",
    "\n",
    "### 1. Solve this usign a regular python for loop\n",
    "\n",
    "### 2. Solve this using no loops and only numpy functions"
   ]
  },
  {
   "cell_type": "code",
   "execution_count": 472,
   "metadata": {},
   "outputs": [],
   "source": [
    "# 1. Solve this usign a regular python for loop\n",
    "\n",
    "import matplotlib.pyplot as plt\n",
    "\n",
    "aa = np.array([1, 3, 7, 1, 2, 6, 0, 1])\n",
    "\n",
    "ind=[]\n",
    "for i in range(1,len(aa)-1):\n",
    "    if (aa[i]>aa[i-1]) and (aa[i]>aa[i+1]):\n",
    "        ind.append(i)"
   ]
  },
  {
   "source": [
    "#2. Solve this using no loops and only numpy functions\n",
    "\n",
    "\n",
    "def arg_peaks_valey_vect(arr):\n",
    "    '''\n",
    "    This fonction finds the indices of the peaks \n",
    "    and valleys in a 1D numpy array \n",
    "    '''\n",
    "    a1=arr[1:-1]\n",
    "    a2=arr[:-2]\n",
    "    a3=arr[2:]\n",
    "\n",
    "    peak1=a1-a2\n",
    "\n",
    "    peak2=a1-a3\n",
    "    #np.diff np.sign\n",
    "\n",
    "    peaks=np.where((peak1>0)*(peak2>0))[0]+1\n",
    "    valley=np.where((peak1<0)*(peak2<0))[0]+1\n",
    "    return peaks,valley\n",
    "\n",
    "x=np.arange(0,2*np.pi,0.01)\n",
    "\n",
    "#just some points from a random \n",
    "# fonction  \n",
    "y=np.sin(x**2)*np.cos(x*2)\n",
    "\n",
    "arg_peak,arg_Valley=arg_peaks_valey_vect(y)\n",
    "\n",
    "\n",
    "\n",
    "plt.plot(x,y)\n",
    "\n",
    "plt.plot(x[arg_peak],y[arg_peak],'*',label='Peaks')\n",
    "plt.plot(x[arg_Valley],y[arg_Valley],'*',label='valleys')\n",
    "\n",
    "plt.legend(loc='best')\n",
    "\n",
    "plt.show()\n"
   ],
   "cell_type": "code",
   "metadata": {},
   "execution_count": 473,
   "outputs": [
    {
     "output_type": "display_data",
     "data": {
      "text/plain": "<Figure size 432x288 with 1 Axes>",
      "image/svg+xml": "<?xml version=\"1.0\" encoding=\"utf-8\" standalone=\"no\"?>\r\n<!DOCTYPE svg PUBLIC \"-//W3C//DTD SVG 1.1//EN\"\r\n  \"http://www.w3.org/Graphics/SVG/1.1/DTD/svg11.dtd\">\r\n<!-- Created with matplotlib (https://matplotlib.org/) -->\r\n<svg height=\"248.518125pt\" version=\"1.1\" viewBox=\"0 0 386.845313 248.518125\" width=\"386.845313pt\" xmlns=\"http://www.w3.org/2000/svg\" xmlns:xlink=\"http://www.w3.org/1999/xlink\">\r\n <defs>\r\n  <style type=\"text/css\">\r\n*{stroke-linecap:butt;stroke-linejoin:round;}\r\n  </style>\r\n </defs>\r\n <g id=\"figure_1\">\r\n  <g id=\"patch_1\">\r\n   <path d=\"M 0 248.518125 \r\nL 386.845313 248.518125 \r\nL 386.845313 0 \r\nL 0 0 \r\nz\r\n\" style=\"fill:none;\"/>\r\n  </g>\r\n  <g id=\"axes_1\">\r\n   <g id=\"patch_2\">\r\n    <path d=\"M 44.845313 224.64 \r\nL 379.645313 224.64 \r\nL 379.645313 7.2 \r\nL 44.845313 7.2 \r\nz\r\n\" style=\"fill:#ffffff;\"/>\r\n   </g>\r\n   <g id=\"matplotlib.axis_1\">\r\n    <g id=\"xtick_1\">\r\n     <g id=\"line2d_1\">\r\n      <defs>\r\n       <path d=\"M 0 0 \r\nL 0 3.5 \r\n\" id=\"me24191d97c\" style=\"stroke:#000000;stroke-width:0.8;\"/>\r\n      </defs>\r\n      <g>\r\n       <use style=\"stroke:#000000;stroke-width:0.8;\" x=\"60.063494\" xlink:href=\"#me24191d97c\" y=\"224.64\"/>\r\n      </g>\r\n     </g>\r\n     <g id=\"text_1\">\r\n      <!-- 0 -->\r\n      <defs>\r\n       <path d=\"M 31.78125 66.40625 \r\nQ 24.171875 66.40625 20.328125 58.90625 \r\nQ 16.5 51.421875 16.5 36.375 \r\nQ 16.5 21.390625 20.328125 13.890625 \r\nQ 24.171875 6.390625 31.78125 6.390625 \r\nQ 39.453125 6.390625 43.28125 13.890625 \r\nQ 47.125 21.390625 47.125 36.375 \r\nQ 47.125 51.421875 43.28125 58.90625 \r\nQ 39.453125 66.40625 31.78125 66.40625 \r\nz\r\nM 31.78125 74.21875 \r\nQ 44.046875 74.21875 50.515625 64.515625 \r\nQ 56.984375 54.828125 56.984375 36.375 \r\nQ 56.984375 17.96875 50.515625 8.265625 \r\nQ 44.046875 -1.421875 31.78125 -1.421875 \r\nQ 19.53125 -1.421875 13.0625 8.265625 \r\nQ 6.59375 17.96875 6.59375 36.375 \r\nQ 6.59375 54.828125 13.0625 64.515625 \r\nQ 19.53125 74.21875 31.78125 74.21875 \r\nz\r\n\" id=\"DejaVuSans-48\"/>\r\n      </defs>\r\n      <g transform=\"translate(56.882244 239.238437)scale(0.1 -0.1)\">\r\n       <use xlink:href=\"#DejaVuSans-48\"/>\r\n      </g>\r\n     </g>\r\n    </g>\r\n    <g id=\"xtick_2\">\r\n     <g id=\"line2d_2\">\r\n      <g>\r\n       <use style=\"stroke:#000000;stroke-width:0.8;\" x=\"108.529042\" xlink:href=\"#me24191d97c\" y=\"224.64\"/>\r\n      </g>\r\n     </g>\r\n     <g id=\"text_2\">\r\n      <!-- 1 -->\r\n      <defs>\r\n       <path d=\"M 12.40625 8.296875 \r\nL 28.515625 8.296875 \r\nL 28.515625 63.921875 \r\nL 10.984375 60.40625 \r\nL 10.984375 69.390625 \r\nL 28.421875 72.90625 \r\nL 38.28125 72.90625 \r\nL 38.28125 8.296875 \r\nL 54.390625 8.296875 \r\nL 54.390625 0 \r\nL 12.40625 0 \r\nz\r\n\" id=\"DejaVuSans-49\"/>\r\n      </defs>\r\n      <g transform=\"translate(105.347792 239.238437)scale(0.1 -0.1)\">\r\n       <use xlink:href=\"#DejaVuSans-49\"/>\r\n      </g>\r\n     </g>\r\n    </g>\r\n    <g id=\"xtick_3\">\r\n     <g id=\"line2d_3\">\r\n      <g>\r\n       <use style=\"stroke:#000000;stroke-width:0.8;\" x=\"156.994589\" xlink:href=\"#me24191d97c\" y=\"224.64\"/>\r\n      </g>\r\n     </g>\r\n     <g id=\"text_3\">\r\n      <!-- 2 -->\r\n      <defs>\r\n       <path d=\"M 19.1875 8.296875 \r\nL 53.609375 8.296875 \r\nL 53.609375 0 \r\nL 7.328125 0 \r\nL 7.328125 8.296875 \r\nQ 12.9375 14.109375 22.625 23.890625 \r\nQ 32.328125 33.6875 34.8125 36.53125 \r\nQ 39.546875 41.84375 41.421875 45.53125 \r\nQ 43.3125 49.21875 43.3125 52.78125 \r\nQ 43.3125 58.59375 39.234375 62.25 \r\nQ 35.15625 65.921875 28.609375 65.921875 \r\nQ 23.96875 65.921875 18.8125 64.3125 \r\nQ 13.671875 62.703125 7.8125 59.421875 \r\nL 7.8125 69.390625 \r\nQ 13.765625 71.78125 18.9375 73 \r\nQ 24.125 74.21875 28.421875 74.21875 \r\nQ 39.75 74.21875 46.484375 68.546875 \r\nQ 53.21875 62.890625 53.21875 53.421875 \r\nQ 53.21875 48.921875 51.53125 44.890625 \r\nQ 49.859375 40.875 45.40625 35.40625 \r\nQ 44.1875 33.984375 37.640625 27.21875 \r\nQ 31.109375 20.453125 19.1875 8.296875 \r\nz\r\n\" id=\"DejaVuSans-50\"/>\r\n      </defs>\r\n      <g transform=\"translate(153.813339 239.238437)scale(0.1 -0.1)\">\r\n       <use xlink:href=\"#DejaVuSans-50\"/>\r\n      </g>\r\n     </g>\r\n    </g>\r\n    <g id=\"xtick_4\">\r\n     <g id=\"line2d_4\">\r\n      <g>\r\n       <use style=\"stroke:#000000;stroke-width:0.8;\" x=\"205.460136\" xlink:href=\"#me24191d97c\" y=\"224.64\"/>\r\n      </g>\r\n     </g>\r\n     <g id=\"text_4\">\r\n      <!-- 3 -->\r\n      <defs>\r\n       <path d=\"M 40.578125 39.3125 \r\nQ 47.65625 37.796875 51.625 33 \r\nQ 55.609375 28.21875 55.609375 21.1875 \r\nQ 55.609375 10.40625 48.1875 4.484375 \r\nQ 40.765625 -1.421875 27.09375 -1.421875 \r\nQ 22.515625 -1.421875 17.65625 -0.515625 \r\nQ 12.796875 0.390625 7.625 2.203125 \r\nL 7.625 11.71875 \r\nQ 11.71875 9.328125 16.59375 8.109375 \r\nQ 21.484375 6.890625 26.8125 6.890625 \r\nQ 36.078125 6.890625 40.9375 10.546875 \r\nQ 45.796875 14.203125 45.796875 21.1875 \r\nQ 45.796875 27.640625 41.28125 31.265625 \r\nQ 36.765625 34.90625 28.71875 34.90625 \r\nL 20.21875 34.90625 \r\nL 20.21875 43.015625 \r\nL 29.109375 43.015625 \r\nQ 36.375 43.015625 40.234375 45.921875 \r\nQ 44.09375 48.828125 44.09375 54.296875 \r\nQ 44.09375 59.90625 40.109375 62.90625 \r\nQ 36.140625 65.921875 28.71875 65.921875 \r\nQ 24.65625 65.921875 20.015625 65.03125 \r\nQ 15.375 64.15625 9.8125 62.3125 \r\nL 9.8125 71.09375 \r\nQ 15.4375 72.65625 20.34375 73.4375 \r\nQ 25.25 74.21875 29.59375 74.21875 \r\nQ 40.828125 74.21875 47.359375 69.109375 \r\nQ 53.90625 64.015625 53.90625 55.328125 \r\nQ 53.90625 49.265625 50.4375 45.09375 \r\nQ 46.96875 40.921875 40.578125 39.3125 \r\nz\r\n\" id=\"DejaVuSans-51\"/>\r\n      </defs>\r\n      <g transform=\"translate(202.278886 239.238437)scale(0.1 -0.1)\">\r\n       <use xlink:href=\"#DejaVuSans-51\"/>\r\n      </g>\r\n     </g>\r\n    </g>\r\n    <g id=\"xtick_5\">\r\n     <g id=\"line2d_5\">\r\n      <g>\r\n       <use style=\"stroke:#000000;stroke-width:0.8;\" x=\"253.925683\" xlink:href=\"#me24191d97c\" y=\"224.64\"/>\r\n      </g>\r\n     </g>\r\n     <g id=\"text_5\">\r\n      <!-- 4 -->\r\n      <defs>\r\n       <path d=\"M 37.796875 64.3125 \r\nL 12.890625 25.390625 \r\nL 37.796875 25.390625 \r\nz\r\nM 35.203125 72.90625 \r\nL 47.609375 72.90625 \r\nL 47.609375 25.390625 \r\nL 58.015625 25.390625 \r\nL 58.015625 17.1875 \r\nL 47.609375 17.1875 \r\nL 47.609375 0 \r\nL 37.796875 0 \r\nL 37.796875 17.1875 \r\nL 4.890625 17.1875 \r\nL 4.890625 26.703125 \r\nz\r\n\" id=\"DejaVuSans-52\"/>\r\n      </defs>\r\n      <g transform=\"translate(250.744433 239.238437)scale(0.1 -0.1)\">\r\n       <use xlink:href=\"#DejaVuSans-52\"/>\r\n      </g>\r\n     </g>\r\n    </g>\r\n    <g id=\"xtick_6\">\r\n     <g id=\"line2d_6\">\r\n      <g>\r\n       <use style=\"stroke:#000000;stroke-width:0.8;\" x=\"302.39123\" xlink:href=\"#me24191d97c\" y=\"224.64\"/>\r\n      </g>\r\n     </g>\r\n     <g id=\"text_6\">\r\n      <!-- 5 -->\r\n      <defs>\r\n       <path d=\"M 10.796875 72.90625 \r\nL 49.515625 72.90625 \r\nL 49.515625 64.59375 \r\nL 19.828125 64.59375 \r\nL 19.828125 46.734375 \r\nQ 21.96875 47.46875 24.109375 47.828125 \r\nQ 26.265625 48.1875 28.421875 48.1875 \r\nQ 40.625 48.1875 47.75 41.5 \r\nQ 54.890625 34.8125 54.890625 23.390625 \r\nQ 54.890625 11.625 47.5625 5.09375 \r\nQ 40.234375 -1.421875 26.90625 -1.421875 \r\nQ 22.3125 -1.421875 17.546875 -0.640625 \r\nQ 12.796875 0.140625 7.71875 1.703125 \r\nL 7.71875 11.625 \r\nQ 12.109375 9.234375 16.796875 8.0625 \r\nQ 21.484375 6.890625 26.703125 6.890625 \r\nQ 35.15625 6.890625 40.078125 11.328125 \r\nQ 45.015625 15.765625 45.015625 23.390625 \r\nQ 45.015625 31 40.078125 35.4375 \r\nQ 35.15625 39.890625 26.703125 39.890625 \r\nQ 22.75 39.890625 18.8125 39.015625 \r\nQ 14.890625 38.140625 10.796875 36.28125 \r\nz\r\n\" id=\"DejaVuSans-53\"/>\r\n      </defs>\r\n      <g transform=\"translate(299.20998 239.238437)scale(0.1 -0.1)\">\r\n       <use xlink:href=\"#DejaVuSans-53\"/>\r\n      </g>\r\n     </g>\r\n    </g>\r\n    <g id=\"xtick_7\">\r\n     <g id=\"line2d_7\">\r\n      <g>\r\n       <use style=\"stroke:#000000;stroke-width:0.8;\" x=\"350.856777\" xlink:href=\"#me24191d97c\" y=\"224.64\"/>\r\n      </g>\r\n     </g>\r\n     <g id=\"text_7\">\r\n      <!-- 6 -->\r\n      <defs>\r\n       <path d=\"M 33.015625 40.375 \r\nQ 26.375 40.375 22.484375 35.828125 \r\nQ 18.609375 31.296875 18.609375 23.390625 \r\nQ 18.609375 15.53125 22.484375 10.953125 \r\nQ 26.375 6.390625 33.015625 6.390625 \r\nQ 39.65625 6.390625 43.53125 10.953125 \r\nQ 47.40625 15.53125 47.40625 23.390625 \r\nQ 47.40625 31.296875 43.53125 35.828125 \r\nQ 39.65625 40.375 33.015625 40.375 \r\nz\r\nM 52.59375 71.296875 \r\nL 52.59375 62.3125 \r\nQ 48.875 64.0625 45.09375 64.984375 \r\nQ 41.3125 65.921875 37.59375 65.921875 \r\nQ 27.828125 65.921875 22.671875 59.328125 \r\nQ 17.53125 52.734375 16.796875 39.40625 \r\nQ 19.671875 43.65625 24.015625 45.921875 \r\nQ 28.375 48.1875 33.59375 48.1875 \r\nQ 44.578125 48.1875 50.953125 41.515625 \r\nQ 57.328125 34.859375 57.328125 23.390625 \r\nQ 57.328125 12.15625 50.6875 5.359375 \r\nQ 44.046875 -1.421875 33.015625 -1.421875 \r\nQ 20.359375 -1.421875 13.671875 8.265625 \r\nQ 6.984375 17.96875 6.984375 36.375 \r\nQ 6.984375 53.65625 15.1875 63.9375 \r\nQ 23.390625 74.21875 37.203125 74.21875 \r\nQ 40.921875 74.21875 44.703125 73.484375 \r\nQ 48.484375 72.75 52.59375 71.296875 \r\nz\r\n\" id=\"DejaVuSans-54\"/>\r\n      </defs>\r\n      <g transform=\"translate(347.675527 239.238437)scale(0.1 -0.1)\">\r\n       <use xlink:href=\"#DejaVuSans-54\"/>\r\n      </g>\r\n     </g>\r\n    </g>\r\n   </g>\r\n   <g id=\"matplotlib.axis_2\">\r\n    <g id=\"ytick_1\">\r\n     <g id=\"line2d_8\">\r\n      <defs>\r\n       <path d=\"M 0 0 \r\nL -3.5 0 \r\n\" id=\"m67bdb6eaa4\" style=\"stroke:#000000;stroke-width:0.8;\"/>\r\n      </defs>\r\n      <g>\r\n       <use style=\"stroke:#000000;stroke-width:0.8;\" x=\"44.845313\" xlink:href=\"#m67bdb6eaa4\" y=\"220.355813\"/>\r\n      </g>\r\n     </g>\r\n     <g id=\"text_8\">\r\n      <!-- −1.00 -->\r\n      <defs>\r\n       <path d=\"M 10.59375 35.5 \r\nL 73.1875 35.5 \r\nL 73.1875 27.203125 \r\nL 10.59375 27.203125 \r\nz\r\n\" id=\"DejaVuSans-8722\"/>\r\n       <path d=\"M 10.6875 12.40625 \r\nL 21 12.40625 \r\nL 21 0 \r\nL 10.6875 0 \r\nz\r\n\" id=\"DejaVuSans-46\"/>\r\n      </defs>\r\n      <g transform=\"translate(7.2 224.155032)scale(0.1 -0.1)\">\r\n       <use xlink:href=\"#DejaVuSans-8722\"/>\r\n       <use x=\"83.789062\" xlink:href=\"#DejaVuSans-49\"/>\r\n       <use x=\"147.412109\" xlink:href=\"#DejaVuSans-46\"/>\r\n       <use x=\"179.199219\" xlink:href=\"#DejaVuSans-48\"/>\r\n       <use x=\"242.822266\" xlink:href=\"#DejaVuSans-48\"/>\r\n      </g>\r\n     </g>\r\n    </g>\r\n    <g id=\"ytick_2\">\r\n     <g id=\"line2d_9\">\r\n      <g>\r\n       <use style=\"stroke:#000000;stroke-width:0.8;\" x=\"44.845313\" xlink:href=\"#m67bdb6eaa4\" y=\"194.930629\"/>\r\n      </g>\r\n     </g>\r\n     <g id=\"text_9\">\r\n      <!-- −0.75 -->\r\n      <defs>\r\n       <path d=\"M 8.203125 72.90625 \r\nL 55.078125 72.90625 \r\nL 55.078125 68.703125 \r\nL 28.609375 0 \r\nL 18.3125 0 \r\nL 43.21875 64.59375 \r\nL 8.203125 64.59375 \r\nz\r\n\" id=\"DejaVuSans-55\"/>\r\n      </defs>\r\n      <g transform=\"translate(7.2 198.729848)scale(0.1 -0.1)\">\r\n       <use xlink:href=\"#DejaVuSans-8722\"/>\r\n       <use x=\"83.789062\" xlink:href=\"#DejaVuSans-48\"/>\r\n       <use x=\"147.412109\" xlink:href=\"#DejaVuSans-46\"/>\r\n       <use x=\"179.199219\" xlink:href=\"#DejaVuSans-55\"/>\r\n       <use x=\"242.822266\" xlink:href=\"#DejaVuSans-53\"/>\r\n      </g>\r\n     </g>\r\n    </g>\r\n    <g id=\"ytick_3\">\r\n     <g id=\"line2d_10\">\r\n      <g>\r\n       <use style=\"stroke:#000000;stroke-width:0.8;\" x=\"44.845313\" xlink:href=\"#m67bdb6eaa4\" y=\"169.505444\"/>\r\n      </g>\r\n     </g>\r\n     <g id=\"text_10\">\r\n      <!-- −0.50 -->\r\n      <g transform=\"translate(7.2 173.304663)scale(0.1 -0.1)\">\r\n       <use xlink:href=\"#DejaVuSans-8722\"/>\r\n       <use x=\"83.789062\" xlink:href=\"#DejaVuSans-48\"/>\r\n       <use x=\"147.412109\" xlink:href=\"#DejaVuSans-46\"/>\r\n       <use x=\"179.199219\" xlink:href=\"#DejaVuSans-53\"/>\r\n       <use x=\"242.822266\" xlink:href=\"#DejaVuSans-48\"/>\r\n      </g>\r\n     </g>\r\n    </g>\r\n    <g id=\"ytick_4\">\r\n     <g id=\"line2d_11\">\r\n      <g>\r\n       <use style=\"stroke:#000000;stroke-width:0.8;\" x=\"44.845313\" xlink:href=\"#m67bdb6eaa4\" y=\"144.08026\"/>\r\n      </g>\r\n     </g>\r\n     <g id=\"text_11\">\r\n      <!-- −0.25 -->\r\n      <g transform=\"translate(7.2 147.879479)scale(0.1 -0.1)\">\r\n       <use xlink:href=\"#DejaVuSans-8722\"/>\r\n       <use x=\"83.789062\" xlink:href=\"#DejaVuSans-48\"/>\r\n       <use x=\"147.412109\" xlink:href=\"#DejaVuSans-46\"/>\r\n       <use x=\"179.199219\" xlink:href=\"#DejaVuSans-50\"/>\r\n       <use x=\"242.822266\" xlink:href=\"#DejaVuSans-53\"/>\r\n      </g>\r\n     </g>\r\n    </g>\r\n    <g id=\"ytick_5\">\r\n     <g id=\"line2d_12\">\r\n      <g>\r\n       <use style=\"stroke:#000000;stroke-width:0.8;\" x=\"44.845313\" xlink:href=\"#m67bdb6eaa4\" y=\"118.655075\"/>\r\n      </g>\r\n     </g>\r\n     <g id=\"text_12\">\r\n      <!-- 0.00 -->\r\n      <g transform=\"translate(15.579688 122.454294)scale(0.1 -0.1)\">\r\n       <use xlink:href=\"#DejaVuSans-48\"/>\r\n       <use x=\"63.623047\" xlink:href=\"#DejaVuSans-46\"/>\r\n       <use x=\"95.410156\" xlink:href=\"#DejaVuSans-48\"/>\r\n       <use x=\"159.033203\" xlink:href=\"#DejaVuSans-48\"/>\r\n      </g>\r\n     </g>\r\n    </g>\r\n    <g id=\"ytick_6\">\r\n     <g id=\"line2d_13\">\r\n      <g>\r\n       <use style=\"stroke:#000000;stroke-width:0.8;\" x=\"44.845313\" xlink:href=\"#m67bdb6eaa4\" y=\"93.229891\"/>\r\n      </g>\r\n     </g>\r\n     <g id=\"text_13\">\r\n      <!-- 0.25 -->\r\n      <g transform=\"translate(15.579688 97.02911)scale(0.1 -0.1)\">\r\n       <use xlink:href=\"#DejaVuSans-48\"/>\r\n       <use x=\"63.623047\" xlink:href=\"#DejaVuSans-46\"/>\r\n       <use x=\"95.410156\" xlink:href=\"#DejaVuSans-50\"/>\r\n       <use x=\"159.033203\" xlink:href=\"#DejaVuSans-53\"/>\r\n      </g>\r\n     </g>\r\n    </g>\r\n    <g id=\"ytick_7\">\r\n     <g id=\"line2d_14\">\r\n      <g>\r\n       <use style=\"stroke:#000000;stroke-width:0.8;\" x=\"44.845313\" xlink:href=\"#m67bdb6eaa4\" y=\"67.804706\"/>\r\n      </g>\r\n     </g>\r\n     <g id=\"text_14\">\r\n      <!-- 0.50 -->\r\n      <g transform=\"translate(15.579688 71.603925)scale(0.1 -0.1)\">\r\n       <use xlink:href=\"#DejaVuSans-48\"/>\r\n       <use x=\"63.623047\" xlink:href=\"#DejaVuSans-46\"/>\r\n       <use x=\"95.410156\" xlink:href=\"#DejaVuSans-53\"/>\r\n       <use x=\"159.033203\" xlink:href=\"#DejaVuSans-48\"/>\r\n      </g>\r\n     </g>\r\n    </g>\r\n    <g id=\"ytick_8\">\r\n     <g id=\"line2d_15\">\r\n      <g>\r\n       <use style=\"stroke:#000000;stroke-width:0.8;\" x=\"44.845313\" xlink:href=\"#m67bdb6eaa4\" y=\"42.379522\"/>\r\n      </g>\r\n     </g>\r\n     <g id=\"text_15\">\r\n      <!-- 0.75 -->\r\n      <g transform=\"translate(15.579688 46.17874)scale(0.1 -0.1)\">\r\n       <use xlink:href=\"#DejaVuSans-48\"/>\r\n       <use x=\"63.623047\" xlink:href=\"#DejaVuSans-46\"/>\r\n       <use x=\"95.410156\" xlink:href=\"#DejaVuSans-55\"/>\r\n       <use x=\"159.033203\" xlink:href=\"#DejaVuSans-53\"/>\r\n      </g>\r\n     </g>\r\n    </g>\r\n    <g id=\"ytick_9\">\r\n     <g id=\"line2d_16\">\r\n      <g>\r\n       <use style=\"stroke:#000000;stroke-width:0.8;\" x=\"44.845313\" xlink:href=\"#m67bdb6eaa4\" y=\"16.954337\"/>\r\n      </g>\r\n     </g>\r\n     <g id=\"text_16\">\r\n      <!-- 1.00 -->\r\n      <g transform=\"translate(15.579688 20.753556)scale(0.1 -0.1)\">\r\n       <use xlink:href=\"#DejaVuSans-49\"/>\r\n       <use x=\"63.623047\" xlink:href=\"#DejaVuSans-46\"/>\r\n       <use x=\"95.410156\" xlink:href=\"#DejaVuSans-48\"/>\r\n       <use x=\"159.033203\" xlink:href=\"#DejaVuSans-48\"/>\r\n      </g>\r\n     </g>\r\n    </g>\r\n   </g>\r\n   <g id=\"line2d_17\">\r\n    <path clip-path=\"url(#p0ed43f2975)\" d=\"M 60.063494 118.655075 \r\nL 61.517461 118.563709 \r\nL 62.971427 118.291586 \r\nL 64.910049 117.658357 \r\nL 66.848671 116.739493 \r\nL 68.787293 115.571738 \r\nL 71.21057 113.836589 \r\nL 75.087814 110.71292 \r\nL 78.480402 108.047387 \r\nL 80.419024 106.742789 \r\nL 82.357646 105.714972 \r\nL 83.811612 105.183813 \r\nL 85.265579 104.903102 \r\nL 86.719545 104.912281 \r\nL 87.688856 105.098161 \r\nL 88.658167 105.440267 \r\nL 89.627478 105.94857 \r\nL 90.596789 106.632325 \r\nL 92.050755 108.005103 \r\nL 93.504722 109.815705 \r\nL 94.958688 112.08279 \r\nL 96.412655 114.818482 \r\nL 97.866621 118.027523 \r\nL 99.320588 121.70647 \r\nL 101.259209 127.319977 \r\nL 103.197831 133.689854 \r\nL 105.621109 142.578388 \r\nL 108.529042 154.268181 \r\nL 116.283529 186.170068 \r\nL 118.222151 193.007992 \r\nL 119.676117 197.500517 \r\nL 121.130084 201.321225 \r\nL 122.58405 204.36098 \r\nL 123.553361 205.903119 \r\nL 124.522672 207.025339 \r\nL 125.491983 207.702655 \r\nL 125.976638 207.86746 \r\nL 126.461294 207.913026 \r\nL 126.945949 207.837127 \r\nL 127.430605 207.637767 \r\nL 128.399916 206.861931 \r\nL 129.369227 205.574684 \r\nL 130.338538 203.769654 \r\nL 131.307849 201.445245 \r\nL 132.27716 198.604912 \r\nL 133.731126 193.397668 \r\nL 135.185092 187.103233 \r\nL 136.639059 179.802695 \r\nL 138.577681 168.696899 \r\nL 141.000958 153.09596 \r\nL 145.362857 122.811297 \r\nL 148.27079 103.471223 \r\nL 150.209412 92.028493 \r\nL 151.663379 84.571429 \r\nL 153.117345 78.288705 \r\nL 154.086656 74.831517 \r\nL 155.055967 72.004126 \r\nL 156.025278 69.835599 \r\nL 156.994589 68.345843 \r\nL 157.479244 67.859047 \r\nL 157.9639 67.544909 \r\nL 158.448555 67.40305 \r\nL 158.933211 67.432411 \r\nL 159.417866 67.631246 \r\nL 159.902522 67.99711 \r\nL 160.871832 69.216641 \r\nL 161.841143 71.057442 \r\nL 162.810454 73.474858 \r\nL 163.779765 76.413462 \r\nL 165.233732 81.65233 \r\nL 167.172354 89.77189 \r\nL 172.018908 111.039009 \r\nL 173.472875 116.275193 \r\nL 174.442186 119.161721 \r\nL 175.411497 121.462642 \r\nL 176.380808 123.101244 \r\nL 176.865463 123.651416 \r\nL 177.350119 124.012761 \r\nL 177.834774 124.179363 \r\nL 178.319429 124.146282 \r\nL 178.804085 123.909604 \r\nL 179.28874 123.466484 \r\nL 179.773396 122.815186 \r\nL 180.742707 120.886881 \r\nL 181.712018 118.134242 \r\nL 182.681329 114.586305 \r\nL 183.65064 110.291905 \r\nL 185.104606 102.605854 \r\nL 186.558572 93.709936 \r\nL 188.98185 77.312172 \r\nL 191.889783 57.914095 \r\nL 193.343749 49.622905 \r\nL 194.31306 44.995485 \r\nL 195.282371 41.268489 \r\nL 196.251682 38.582383 \r\nL 196.736337 37.66903 \r\nL 197.220993 37.060688 \r\nL 197.705648 36.769534 \r\nL 198.190304 36.806231 \r\nL 198.674959 37.179835 \r\nL 199.159615 37.897696 \r\nL 199.64427 38.96538 \r\nL 200.128926 40.386594 \r\nL 201.098237 44.294755 \r\nL 202.067548 49.612427 \r\nL 203.036859 56.297079 \r\nL 204.006169 64.272964 \r\nL 205.460136 78.411694 \r\nL 206.914102 94.706727 \r\nL 209.33738 124.870657 \r\nL 212.729968 167.202707 \r\nL 214.183934 183.014332 \r\nL 215.637901 196.263781 \r\nL 216.607212 203.3356 \r\nL 217.576523 208.805552 \r\nL 218.545834 212.549015 \r\nL 219.030489 213.745503 \r\nL 219.515145 214.482446 \r\nL 219.9998 214.756364 \r\nL 220.484456 214.566692 \r\nL 220.969111 213.915823 \r\nL 221.453766 212.809114 \r\nL 221.938422 211.254891 \r\nL 222.907733 206.85182 \r\nL 223.877044 200.830826 \r\nL 224.846355 193.359395 \r\nL 226.300321 179.894066 \r\nL 228.238943 159.056068 \r\nL 232.116187 116.140334 \r\nL 233.570153 102.560068 \r\nL 234.539464 94.92537 \r\nL 235.508775 88.629662 \r\nL 236.478086 83.793724 \r\nL 237.447397 80.485139 \r\nL 237.932053 79.409458 \r\nL 238.416708 78.715533 \r\nL 238.901363 78.395948 \r\nL 239.386019 78.439807 \r\nL 239.870674 78.832827 \r\nL 240.35533 79.557463 \r\nL 240.839985 80.593067 \r\nL 241.809296 83.500233 \r\nL 242.778607 87.335034 \r\nL 244.232574 94.264556 \r\nL 247.140506 108.830761 \r\nL 248.109817 112.852178 \r\nL 249.079128 116.034134 \r\nL 250.048439 118.178796 \r\nL 250.533095 118.814237 \r\nL 251.01775 119.140103 \r\nL 251.502406 119.147566 \r\nL 251.987061 118.831932 \r\nL 252.471717 118.192765 \r\nL 252.956372 117.233959 \r\nL 253.925683 114.394837 \r\nL 254.894994 110.432436 \r\nL 255.864305 105.530987 \r\nL 257.318271 96.967522 \r\nL 260.226204 79.472407 \r\nL 261.195515 74.853143 \r\nL 262.164826 71.437591 \r\nL 262.649482 70.282185 \r\nL 263.134137 69.54303 \r\nL 263.618793 69.25157 \r\nL 264.103448 69.43502 \r\nL 264.588103 70.115923 \r\nL 265.072759 71.311757 \r\nL 265.557414 73.034575 \r\nL 266.04207 75.290715 \r\nL 267.011381 81.398314 \r\nL 267.980692 89.563272 \r\nL 268.950003 99.614132 \r\nL 270.403969 117.611565 \r\nL 272.827246 151.987619 \r\nL 274.765868 178.786959 \r\nL 276.219835 195.515501 \r\nL 277.189146 204.057226 \r\nL 278.158457 209.976414 \r\nL 278.643112 211.836492 \r\nL 279.127768 212.91488 \r\nL 279.612423 213.18435 \r\nL 280.097079 212.625672 \r\nL 280.581734 211.228008 \r\nL 281.06639 208.989204 \r\nL 281.551045 205.915997 \r\nL 282.520356 197.338282 \r\nL 283.489667 185.727854 \r\nL 284.458978 171.455619 \r\nL 285.912944 146.173541 \r\nL 290.759499 56.068434 \r\nL 291.72881 42.466496 \r\nL 292.698121 31.845582 \r\nL 293.667432 24.646963 \r\nL 294.152087 22.428407 \r\nL 294.636743 21.16197 \r\nL 295.121398 20.857987 \r\nL 295.606054 21.515834 \r\nL 296.090709 23.123872 \r\nL 296.575365 25.659536 \r\nL 297.06002 29.089561 \r\nL 298.029331 38.448455 \r\nL 298.998642 50.73768 \r\nL 300.452608 73.330487 \r\nL 304.814508 147.34383 \r\nL 305.783819 160.226787 \r\nL 306.75313 170.488221 \r\nL 307.72244 177.763831 \r\nL 308.207096 180.214505 \r\nL 308.691751 181.860086 \r\nL 309.176407 182.704426 \r\nL 309.661062 182.762507 \r\nL 310.145718 182.060123 \r\nL 310.630373 180.633389 \r\nL 311.115029 178.528102 \r\nL 312.08434 172.508568 \r\nL 313.053651 164.528058 \r\nL 314.507617 150.246565 \r\nL 316.930894 125.838128 \r\nL 317.900205 117.661526 \r\nL 318.869516 111.113396 \r\nL 319.838827 106.487339 \r\nL 320.323483 104.942395 \r\nL 320.808138 103.913439 \r\nL 321.292794 103.390066 \r\nL 321.777449 103.351477 \r\nL 322.262105 103.766941 \r\nL 322.74676 104.596448 \r\nL 323.231416 105.791534 \r\nL 324.200727 109.048442 \r\nL 327.593315 122.317192 \r\nL 328.07797 123.508913 \r\nL 328.562626 124.337775 \r\nL 329.047281 124.757712 \r\nL 329.531937 124.731927 \r\nL 330.016592 124.23386 \r\nL 330.501248 123.247984 \r\nL 330.985903 121.770382 \r\nL 331.470559 119.809118 \r\nL 332.43987 114.528279 \r\nL 333.40918 107.708422 \r\nL 335.347802 91.507615 \r\nL 336.801769 79.803375 \r\nL 337.77108 73.640217 \r\nL 338.255735 71.32926 \r\nL 338.740391 69.643678 \r\nL 339.225046 68.656747 \r\nL 339.709702 68.431225 \r\nL 340.194357 69.017713 \r\nL 340.679013 70.453214 \r\nL 341.163668 72.759906 \r\nL 341.648324 75.944165 \r\nL 342.617634 84.888006 \r\nL 343.586945 97.000807 \r\nL 345.040912 119.843249 \r\nL 348.4335 178.449807 \r\nL 349.402811 191.453906 \r\nL 350.372122 200.770933 \r\nL 350.856777 203.770102 \r\nL 351.341433 205.546874 \r\nL 351.826088 206.037434 \r\nL 352.310744 205.198683 \r\nL 352.795399 203.009569 \r\nL 353.280055 199.472031 \r\nL 353.76471 194.611543 \r\nL 354.734021 181.141507 \r\nL 355.703332 163.267156 \r\nL 357.157299 130.475869 \r\nL 360.065231 60.831892 \r\nL 361.034542 42.079584 \r\nL 362.003853 27.907028 \r\nL 362.488509 22.876556 \r\nL 362.973164 19.353113 \r\nL 363.45782 17.407586 \r\nL 363.942475 17.083636 \r\nL 364.427131 18.396576 \r\nL 364.427131 18.396576 \r\n\" style=\"fill:none;stroke:#1f77b4;stroke-linecap:square;stroke-width:1.5;\"/>\r\n   </g>\r\n   <g id=\"line2d_18\">\r\n    <defs>\r\n     <path d=\"M 0 -3 \r\nL -0.673542 -0.927051 \r\nL -2.85317 -0.927051 \r\nL -1.089814 0.354102 \r\nL -1.763356 2.427051 \r\nL -0 1.145898 \r\nL 1.763356 2.427051 \r\nL 1.089814 0.354102 \r\nL 2.85317 -0.927051 \r\nL 0.673542 -0.927051 \r\nz\r\n\" id=\"md7eb9facfb\" style=\"stroke:#ff7f0e;stroke-linejoin:bevel;\"/>\r\n    </defs>\r\n    <g clip-path=\"url(#p0ed43f2975)\">\r\n     <use style=\"fill:#ff7f0e;stroke:#ff7f0e;stroke-linejoin:bevel;\" x=\"85.750234\" xlink:href=\"#md7eb9facfb\" y=\"104.872047\"/>\r\n     <use style=\"fill:#ff7f0e;stroke:#ff7f0e;stroke-linejoin:bevel;\" x=\"158.448555\" xlink:href=\"#md7eb9facfb\" y=\"67.40305\"/>\r\n     <use style=\"fill:#ff7f0e;stroke:#ff7f0e;stroke-linejoin:bevel;\" x=\"197.705648\" xlink:href=\"#md7eb9facfb\" y=\"36.769534\"/>\r\n     <use style=\"fill:#ff7f0e;stroke:#ff7f0e;stroke-linejoin:bevel;\" x=\"238.901363\" xlink:href=\"#md7eb9facfb\" y=\"78.395948\"/>\r\n     <use style=\"fill:#ff7f0e;stroke:#ff7f0e;stroke-linejoin:bevel;\" x=\"263.618793\" xlink:href=\"#md7eb9facfb\" y=\"69.25157\"/>\r\n     <use style=\"fill:#ff7f0e;stroke:#ff7f0e;stroke-linejoin:bevel;\" x=\"295.121398\" xlink:href=\"#md7eb9facfb\" y=\"20.857987\"/>\r\n     <use style=\"fill:#ff7f0e;stroke:#ff7f0e;stroke-linejoin:bevel;\" x=\"321.777449\" xlink:href=\"#md7eb9facfb\" y=\"103.351477\"/>\r\n     <use style=\"fill:#ff7f0e;stroke:#ff7f0e;stroke-linejoin:bevel;\" x=\"339.709702\" xlink:href=\"#md7eb9facfb\" y=\"68.431225\"/>\r\n     <use style=\"fill:#ff7f0e;stroke:#ff7f0e;stroke-linejoin:bevel;\" x=\"363.942475\" xlink:href=\"#md7eb9facfb\" y=\"17.083636\"/>\r\n    </g>\r\n   </g>\r\n   <g id=\"line2d_19\">\r\n    <defs>\r\n     <path d=\"M 0 -3 \r\nL -0.673542 -0.927051 \r\nL -2.85317 -0.927051 \r\nL -1.089814 0.354102 \r\nL -1.763356 2.427051 \r\nL -0 1.145898 \r\nL 1.763356 2.427051 \r\nL 1.089814 0.354102 \r\nL 2.85317 -0.927051 \r\nL 0.673542 -0.927051 \r\nz\r\n\" id=\"m84b95117b8\" style=\"stroke:#2ca02c;stroke-linejoin:bevel;\"/>\r\n    </defs>\r\n    <g clip-path=\"url(#p0ed43f2975)\">\r\n     <use style=\"fill:#2ca02c;stroke:#2ca02c;stroke-linejoin:bevel;\" x=\"126.461294\" xlink:href=\"#m84b95117b8\" y=\"207.913026\"/>\r\n     <use style=\"fill:#2ca02c;stroke:#2ca02c;stroke-linejoin:bevel;\" x=\"177.834774\" xlink:href=\"#m84b95117b8\" y=\"124.179363\"/>\r\n     <use style=\"fill:#2ca02c;stroke:#2ca02c;stroke-linejoin:bevel;\" x=\"219.9998\" xlink:href=\"#m84b95117b8\" y=\"214.756364\"/>\r\n     <use style=\"fill:#2ca02c;stroke:#2ca02c;stroke-linejoin:bevel;\" x=\"251.502406\" xlink:href=\"#m84b95117b8\" y=\"119.147566\"/>\r\n     <use style=\"fill:#2ca02c;stroke:#2ca02c;stroke-linejoin:bevel;\" x=\"279.612423\" xlink:href=\"#m84b95117b8\" y=\"213.18435\"/>\r\n     <use style=\"fill:#2ca02c;stroke:#2ca02c;stroke-linejoin:bevel;\" x=\"309.661062\" xlink:href=\"#m84b95117b8\" y=\"182.762507\"/>\r\n     <use style=\"fill:#2ca02c;stroke:#2ca02c;stroke-linejoin:bevel;\" x=\"329.047281\" xlink:href=\"#m84b95117b8\" y=\"124.757712\"/>\r\n     <use style=\"fill:#2ca02c;stroke:#2ca02c;stroke-linejoin:bevel;\" x=\"351.826088\" xlink:href=\"#m84b95117b8\" y=\"206.037434\"/>\r\n    </g>\r\n   </g>\r\n   <g id=\"patch_3\">\r\n    <path d=\"M 44.845313 224.64 \r\nL 44.845313 7.2 \r\n\" style=\"fill:none;stroke:#000000;stroke-linecap:square;stroke-linejoin:miter;stroke-width:0.8;\"/>\r\n   </g>\r\n   <g id=\"patch_4\">\r\n    <path d=\"M 379.645313 224.64 \r\nL 379.645313 7.2 \r\n\" style=\"fill:none;stroke:#000000;stroke-linecap:square;stroke-linejoin:miter;stroke-width:0.8;\"/>\r\n   </g>\r\n   <g id=\"patch_5\">\r\n    <path d=\"M 44.845313 224.64 \r\nL 379.645313 224.64 \r\n\" style=\"fill:none;stroke:#000000;stroke-linecap:square;stroke-linejoin:miter;stroke-width:0.8;\"/>\r\n   </g>\r\n   <g id=\"patch_6\">\r\n    <path d=\"M 44.845313 7.2 \r\nL 379.645313 7.2 \r\n\" style=\"fill:none;stroke:#000000;stroke-linecap:square;stroke-linejoin:miter;stroke-width:0.8;\"/>\r\n   </g>\r\n   <g id=\"legend_1\">\r\n    <g id=\"patch_7\">\r\n     <path d=\"M 51.845313 44.55625 \r\nL 118.729688 44.55625 \r\nQ 120.729688 44.55625 120.729688 42.55625 \r\nL 120.729688 14.2 \r\nQ 120.729688 12.2 118.729688 12.2 \r\nL 51.845313 12.2 \r\nQ 49.845313 12.2 49.845313 14.2 \r\nL 49.845313 42.55625 \r\nQ 49.845313 44.55625 51.845313 44.55625 \r\nz\r\n\" style=\"fill:#ffffff;opacity:0.8;stroke:#cccccc;stroke-linejoin:miter;\"/>\r\n    </g>\r\n    <g id=\"line2d_20\"/>\r\n    <g id=\"line2d_21\">\r\n     <g>\r\n      <use style=\"fill:#ff7f0e;stroke:#ff7f0e;stroke-linejoin:bevel;\" x=\"63.845313\" xlink:href=\"#md7eb9facfb\" y=\"20.298437\"/>\r\n     </g>\r\n    </g>\r\n    <g id=\"text_17\">\r\n     <!-- Peaks -->\r\n     <defs>\r\n      <path d=\"M 19.671875 64.796875 \r\nL 19.671875 37.40625 \r\nL 32.078125 37.40625 \r\nQ 38.96875 37.40625 42.71875 40.96875 \r\nQ 46.484375 44.53125 46.484375 51.125 \r\nQ 46.484375 57.671875 42.71875 61.234375 \r\nQ 38.96875 64.796875 32.078125 64.796875 \r\nz\r\nM 9.8125 72.90625 \r\nL 32.078125 72.90625 \r\nQ 44.34375 72.90625 50.609375 67.359375 \r\nQ 56.890625 61.8125 56.890625 51.125 \r\nQ 56.890625 40.328125 50.609375 34.8125 \r\nQ 44.34375 29.296875 32.078125 29.296875 \r\nL 19.671875 29.296875 \r\nL 19.671875 0 \r\nL 9.8125 0 \r\nz\r\n\" id=\"DejaVuSans-80\"/>\r\n      <path d=\"M 56.203125 29.59375 \r\nL 56.203125 25.203125 \r\nL 14.890625 25.203125 \r\nQ 15.484375 15.921875 20.484375 11.0625 \r\nQ 25.484375 6.203125 34.421875 6.203125 \r\nQ 39.59375 6.203125 44.453125 7.46875 \r\nQ 49.3125 8.734375 54.109375 11.28125 \r\nL 54.109375 2.78125 \r\nQ 49.265625 0.734375 44.1875 -0.34375 \r\nQ 39.109375 -1.421875 33.890625 -1.421875 \r\nQ 20.796875 -1.421875 13.15625 6.1875 \r\nQ 5.515625 13.8125 5.515625 26.8125 \r\nQ 5.515625 40.234375 12.765625 48.109375 \r\nQ 20.015625 56 32.328125 56 \r\nQ 43.359375 56 49.78125 48.890625 \r\nQ 56.203125 41.796875 56.203125 29.59375 \r\nz\r\nM 47.21875 32.234375 \r\nQ 47.125 39.59375 43.09375 43.984375 \r\nQ 39.0625 48.390625 32.421875 48.390625 \r\nQ 24.90625 48.390625 20.390625 44.140625 \r\nQ 15.875 39.890625 15.1875 32.171875 \r\nz\r\n\" id=\"DejaVuSans-101\"/>\r\n      <path d=\"M 34.28125 27.484375 \r\nQ 23.390625 27.484375 19.1875 25 \r\nQ 14.984375 22.515625 14.984375 16.5 \r\nQ 14.984375 11.71875 18.140625 8.90625 \r\nQ 21.296875 6.109375 26.703125 6.109375 \r\nQ 34.1875 6.109375 38.703125 11.40625 \r\nQ 43.21875 16.703125 43.21875 25.484375 \r\nL 43.21875 27.484375 \r\nz\r\nM 52.203125 31.203125 \r\nL 52.203125 0 \r\nL 43.21875 0 \r\nL 43.21875 8.296875 \r\nQ 40.140625 3.328125 35.546875 0.953125 \r\nQ 30.953125 -1.421875 24.3125 -1.421875 \r\nQ 15.921875 -1.421875 10.953125 3.296875 \r\nQ 6 8.015625 6 15.921875 \r\nQ 6 25.140625 12.171875 29.828125 \r\nQ 18.359375 34.515625 30.609375 34.515625 \r\nL 43.21875 34.515625 \r\nL 43.21875 35.40625 \r\nQ 43.21875 41.609375 39.140625 45 \r\nQ 35.0625 48.390625 27.6875 48.390625 \r\nQ 23 48.390625 18.546875 47.265625 \r\nQ 14.109375 46.140625 10.015625 43.890625 \r\nL 10.015625 52.203125 \r\nQ 14.9375 54.109375 19.578125 55.046875 \r\nQ 24.21875 56 28.609375 56 \r\nQ 40.484375 56 46.34375 49.84375 \r\nQ 52.203125 43.703125 52.203125 31.203125 \r\nz\r\n\" id=\"DejaVuSans-97\"/>\r\n      <path d=\"M 9.078125 75.984375 \r\nL 18.109375 75.984375 \r\nL 18.109375 31.109375 \r\nL 44.921875 54.6875 \r\nL 56.390625 54.6875 \r\nL 27.390625 29.109375 \r\nL 57.625 0 \r\nL 45.90625 0 \r\nL 18.109375 26.703125 \r\nL 18.109375 0 \r\nL 9.078125 0 \r\nz\r\n\" id=\"DejaVuSans-107\"/>\r\n      <path d=\"M 44.28125 53.078125 \r\nL 44.28125 44.578125 \r\nQ 40.484375 46.53125 36.375 47.5 \r\nQ 32.28125 48.484375 27.875 48.484375 \r\nQ 21.1875 48.484375 17.84375 46.4375 \r\nQ 14.5 44.390625 14.5 40.28125 \r\nQ 14.5 37.15625 16.890625 35.375 \r\nQ 19.28125 33.59375 26.515625 31.984375 \r\nL 29.59375 31.296875 \r\nQ 39.15625 29.25 43.1875 25.515625 \r\nQ 47.21875 21.78125 47.21875 15.09375 \r\nQ 47.21875 7.46875 41.1875 3.015625 \r\nQ 35.15625 -1.421875 24.609375 -1.421875 \r\nQ 20.21875 -1.421875 15.453125 -0.5625 \r\nQ 10.6875 0.296875 5.421875 2 \r\nL 5.421875 11.28125 \r\nQ 10.40625 8.6875 15.234375 7.390625 \r\nQ 20.0625 6.109375 24.8125 6.109375 \r\nQ 31.15625 6.109375 34.5625 8.28125 \r\nQ 37.984375 10.453125 37.984375 14.40625 \r\nQ 37.984375 18.0625 35.515625 20.015625 \r\nQ 33.0625 21.96875 24.703125 23.78125 \r\nL 21.578125 24.515625 \r\nQ 13.234375 26.265625 9.515625 29.90625 \r\nQ 5.8125 33.546875 5.8125 39.890625 \r\nQ 5.8125 47.609375 11.28125 51.796875 \r\nQ 16.75 56 26.8125 56 \r\nQ 31.78125 56 36.171875 55.265625 \r\nQ 40.578125 54.546875 44.28125 53.078125 \r\nz\r\n\" id=\"DejaVuSans-115\"/>\r\n     </defs>\r\n     <g transform=\"translate(81.845313 23.798437)scale(0.1 -0.1)\">\r\n      <use xlink:href=\"#DejaVuSans-80\"/>\r\n      <use x=\"60.255859\" xlink:href=\"#DejaVuSans-101\"/>\r\n      <use x=\"121.779297\" xlink:href=\"#DejaVuSans-97\"/>\r\n      <use x=\"183.058594\" xlink:href=\"#DejaVuSans-107\"/>\r\n      <use x=\"240.96875\" xlink:href=\"#DejaVuSans-115\"/>\r\n     </g>\r\n    </g>\r\n    <g id=\"line2d_22\"/>\r\n    <g id=\"line2d_23\">\r\n     <g>\r\n      <use style=\"fill:#2ca02c;stroke:#2ca02c;stroke-linejoin:bevel;\" x=\"63.845313\" xlink:href=\"#m84b95117b8\" y=\"34.976562\"/>\r\n     </g>\r\n    </g>\r\n    <g id=\"text_18\">\r\n     <!-- valleys -->\r\n     <defs>\r\n      <path d=\"M 2.984375 54.6875 \r\nL 12.5 54.6875 \r\nL 29.59375 8.796875 \r\nL 46.6875 54.6875 \r\nL 56.203125 54.6875 \r\nL 35.6875 0 \r\nL 23.484375 0 \r\nz\r\n\" id=\"DejaVuSans-118\"/>\r\n      <path d=\"M 9.421875 75.984375 \r\nL 18.40625 75.984375 \r\nL 18.40625 0 \r\nL 9.421875 0 \r\nz\r\n\" id=\"DejaVuSans-108\"/>\r\n      <path d=\"M 32.171875 -5.078125 \r\nQ 28.375 -14.84375 24.75 -17.8125 \r\nQ 21.140625 -20.796875 15.09375 -20.796875 \r\nL 7.90625 -20.796875 \r\nL 7.90625 -13.28125 \r\nL 13.1875 -13.28125 \r\nQ 16.890625 -13.28125 18.9375 -11.515625 \r\nQ 21 -9.765625 23.484375 -3.21875 \r\nL 25.09375 0.875 \r\nL 2.984375 54.6875 \r\nL 12.5 54.6875 \r\nL 29.59375 11.921875 \r\nL 46.6875 54.6875 \r\nL 56.203125 54.6875 \r\nz\r\n\" id=\"DejaVuSans-121\"/>\r\n     </defs>\r\n     <g transform=\"translate(81.845313 38.476562)scale(0.1 -0.1)\">\r\n      <use xlink:href=\"#DejaVuSans-118\"/>\r\n      <use x=\"59.179688\" xlink:href=\"#DejaVuSans-97\"/>\r\n      <use x=\"120.458984\" xlink:href=\"#DejaVuSans-108\"/>\r\n      <use x=\"148.242188\" xlink:href=\"#DejaVuSans-108\"/>\r\n      <use x=\"176.025391\" xlink:href=\"#DejaVuSans-101\"/>\r\n      <use x=\"237.548828\" xlink:href=\"#DejaVuSans-121\"/>\r\n      <use x=\"296.728516\" xlink:href=\"#DejaVuSans-115\"/>\r\n     </g>\r\n    </g>\r\n   </g>\r\n  </g>\r\n </g>\r\n <defs>\r\n  <clipPath id=\"p0ed43f2975\">\r\n   <rect height=\"217.44\" width=\"334.8\" x=\"44.845313\" y=\"7.2\"/>\r\n  </clipPath>\r\n </defs>\r\n</svg>\r\n",
      "image/png": "[encoded data removed]"
     },
     "metadata": {
      "needs_background": "light"
     }
    }
   ]
  },
  {
   "cell_type": "code",
   "execution_count": null,
   "metadata": {},
   "outputs": [],
   "source": []
  }
 ],
 "metadata": {
  "date": 1597540028.6350708,
  "filename": "numpy.rst",
  "kernelspec": {
   "display_name": "Python 3",
   "language": "python",
   "name": "python3"
  },
  "language_info": {
   "codemirror_mode": {
    "name": "ipython",
    "version": 3
   },
   "file_extension": ".py",
   "mimetype": "text/x-python",
   "name": "python",
   "nbconvert_exporter": "python",
   "pygments_lexer": "ipython3",
   "version": "3.7.4-final"
  },
  "next_doc": {
   "link": "matplotlib",
   "title": "Matplotlib"
  },
  "prev_doc": {
   "link": "need_for_speed",
   "title": "Python for Scientific Computing"
  },
  "title": "NumPy"
 },
 "nbformat": 4,
 "nbformat_minor": 2
}